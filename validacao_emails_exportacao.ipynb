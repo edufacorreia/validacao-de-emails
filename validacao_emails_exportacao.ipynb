{
 "cells": [
  {
   "cell_type": "markdown",
   "id": "fb1372a5",
   "metadata": {},
   "source": [
    "## Limpeza de dados para exportação de bases de leads para o RD Station"
   ]
  },
  {
   "cell_type": "markdown",
   "id": "368901b7",
   "metadata": {},
   "source": [
    "**Preparação:**\n",
    "- Requisitos;  \n",
    "- Dados.  \n",
    "\n",
    "**Limpeza:**  \n",
    "- Remover espaçamentos;  \n",
    "- Deixar caracteres minúsculos;  \n",
    "- Remover e-mails inválidos;  \n",
    "- Remover e-mails duplicados (em registros e campos).  \n",
    "\n",
    "**Retorno:**  \n",
    "- Relatório breve das mudanças aplicadas;  \n",
    "- Gerar arquivo dos dados tratados para exportação;  \n",
    "- Gerar arquivo dos dados inválidos para exportação."
   ]
  },
  {
   "cell_type": "markdown",
   "id": "b4530d22",
   "metadata": {},
   "source": [
    "---"
   ]
  },
  {
   "cell_type": "markdown",
   "id": "dd05ae6f",
   "metadata": {},
   "source": [
    "### Preparação"
   ]
  },
  {
   "cell_type": "code",
   "execution_count": 1,
   "id": "50951f84",
   "metadata": {},
   "outputs": [],
   "source": [
    "# imports\n",
    "import pandas as pd\n",
    "import numpy as np\n",
    "import re"
   ]
  },
  {
   "cell_type": "code",
   "execution_count": 2,
   "id": "e67cfd6e",
   "metadata": {},
   "outputs": [],
   "source": [
    "# dados\n",
    "df = pd.read_excel('dados/mailing inscritos 0709.xlsx')"
   ]
  },
  {
   "cell_type": "code",
   "execution_count": 3,
   "id": "4daf5084",
   "metadata": {},
   "outputs": [
    {
     "data": {
      "text/plain": [
       "(21272, 30)"
      ]
     },
     "execution_count": 3,
     "metadata": {},
     "output_type": "execute_result"
    }
   ],
   "source": [
    "df.shape"
   ]
  },
  {
   "cell_type": "markdown",
   "id": "023c7f2b",
   "metadata": {},
   "source": [
    "---"
   ]
  },
  {
   "cell_type": "markdown",
   "id": "ede06ae1",
   "metadata": {},
   "source": [
    "### Limpeza"
   ]
  },
  {
   "cell_type": "code",
   "execution_count": 4,
   "id": "45237f18",
   "metadata": {},
   "outputs": [],
   "source": [
    "# Remover espaçamentos\n",
    "\n",
    "df = df.applymap(lambda x: x.strip() if isinstance(x, str) else x)"
   ]
  },
  {
   "cell_type": "code",
   "execution_count": 5,
   "id": "7e6f3d12",
   "metadata": {},
   "outputs": [
    {
     "name": "stdout",
     "output_type": "stream",
     "text": [
      "Total de emails com letra maiúscula antes da conversão: False    21165\n",
      "True       107\n",
      "Name: has_uppercase, dtype: int64. Total de emails com letra maiúscula após conversão: False    21272\n",
      "Name: has_uppercase, dtype: int64\n"
     ]
    }
   ],
   "source": [
    "# Deixar caracteres minúsculos\n",
    "\n",
    "# criando a coluna 'has_uppercase' e realizando contagem\n",
    "df['has_uppercase'] = df['Email'].str.contains(r'[A-Z]')\n",
    "emails_com_letras_maiusculas_antes = df['has_uppercase'].value_counts()\n",
    "\n",
    "# convertendo emails para lowercase\n",
    "df['Email'] = df['Email'].str.lower()\n",
    "\n",
    "# verificando eficácia\n",
    "df['has_uppercase'] = df['Email'].str.contains(r'[A-Z]')\n",
    "emails_com_letras_maiusculas_depois = df['has_uppercase'].value_counts()\n",
    "\n",
    "print(f'Total de emails com letra maiúscula antes da conversão: {emails_com_letras_maiusculas_antes}. Total de emails com letra maiúscula após conversão: {emails_com_letras_maiusculas_depois}')"
   ]
  },
  {
   "cell_type": "code",
   "execution_count": 6,
   "id": "e218ff71",
   "metadata": {},
   "outputs": [
    {
     "name": "stdout",
     "output_type": "stream",
     "text": [
      "Número de emails inválidos: 17\n",
      "Total de registros após remoção de emails inválidos: 21255\n",
      "Total de registros de emails inválidos: 17\n"
     ]
    }
   ],
   "source": [
    "# Remover e-mails inválidos\n",
    "\n",
    "# função\n",
    "def is_valid_email(email):\n",
    "    # Verifica se o email segue o padrão básico de endereço de email\n",
    "    pattern = r'^[\\w\\.-]+@[\\w\\.-]+\\.\\w+$'\n",
    "    if re.match(pattern, email) is not None:\n",
    "        # Verifica se há mais de um \"@\" no campo\n",
    "        if email.count('@') == 1:\n",
    "            return True\n",
    "    return False\n",
    "\n",
    "# aplicação\n",
    "df['email_valido'] = df['Email'].apply(is_valid_email)\n",
    "\n",
    "# verificação\n",
    "invalid_count = df['email_valido'].eq(False).sum()\n",
    "print(\"Número de emails inválidos:\", invalid_count)\n",
    "\n",
    "# criando df para emails inválidos\n",
    "df_invalidos = df[df['email_valido'] == False]\n",
    "df_invalidos\n",
    "\n",
    "# removendo os emails inválidos do df\n",
    "df = df[df['email_valido'] == True]\n",
    "\n",
    "# prints\n",
    "print(f'Total de registros após remoção de emails inválidos: {df.shape[0]}')\n",
    "print(f'Total de registros de emails inválidos: {df_invalidos.shape[0]}')"
   ]
  },
  {
   "cell_type": "code",
   "execution_count": 7,
   "id": "57cdf7e1",
   "metadata": {},
   "outputs": [
    {
     "name": "stdout",
     "output_type": "stream",
     "text": [
      "Total de duplicatas: 0\n",
      "Total de registro após remoção de duplicatas: 21212\n"
     ]
    }
   ],
   "source": [
    "# Remover e-mails duplicados (em registros e campos)\n",
    "\n",
    "# função para remover duplicatas em um mesmo campo\n",
    "def remove_duplicate_emails(cell):\n",
    "    unique_emails = list(set(cell.split()))  # Transforma em conjunto para remover duplicatas\n",
    "    return ' '.join(unique_emails)  # Transforma de volta em string\n",
    "\n",
    "# aplicando a função\n",
    "df['Email'] = df['Email'].apply(remove_duplicate_emails)\n",
    "\n",
    "# função para verificar os registros duplicados\n",
    "duplicates = df[df.duplicated(subset=['Email'])]\n",
    "\n",
    "duplicate_counts = duplicates.groupby(duplicates.columns.tolist()).size().reset_index(name='count')\n",
    "print(f'Total de duplicatas: {duplicate_counts.shape[0]}')\n",
    "\n",
    "# removendo os registros duplicados\n",
    "df = df.drop_duplicates(subset=['Email'])\n",
    "print(f'Total de registro após remoção de duplicatas: {df.shape[0]}')"
   ]
  },
  {
   "cell_type": "markdown",
   "id": "ace64f56",
   "metadata": {},
   "source": [
    "---"
   ]
  },
  {
   "cell_type": "markdown",
   "id": "85d3caec",
   "metadata": {},
   "source": [
    "### Retorno"
   ]
  },
  {
   "cell_type": "code",
   "execution_count": 8,
   "id": "5ec6b320",
   "metadata": {},
   "outputs": [
    {
     "name": "stdout",
     "output_type": "stream",
     "text": [
      "Mantidos e corrigidos: 21212\n",
      "Descartados: 17\n"
     ]
    }
   ],
   "source": [
    "# Relatório breve das mudanças aplicadas\n",
    "\n",
    "print(f'Mantidos e corrigidos: {df.shape[0]}')\n",
    "print(f'Descartados: {df_invalidos.shape[0]}')"
   ]
  },
  {
   "cell_type": "markdown",
   "id": "b4ed4553",
   "metadata": {},
   "source": [
    "---"
   ]
  },
  {
   "cell_type": "markdown",
   "id": "85f2735f",
   "metadata": {},
   "source": [
    "### Troubleshooting"
   ]
  },
  {
   "cell_type": "markdown",
   "id": "48447212",
   "metadata": {},
   "source": [
    "Mensagem de erro:"
   ]
  },
  {
   "attachments": {
    "image_2023_09_05T18_06_18_463Z.png": {
     "image/png": "[encoded data removed]"
    }
   },
   "cell_type": "markdown",
   "id": "1a9b1b67",
   "metadata": {},
   "source": [
    "![image_2023_09_05T18_06_18_463Z.png](attachment:image_2023_09_05T18_06_18_463Z.png)"
   ]
  },
  {
   "cell_type": "code",
   "execution_count": 9,
   "id": "636c7edb",
   "metadata": {},
   "outputs": [
    {
     "data": {
      "text/plain": [
       "Index(['Nome', 'CPF', 'Email', 'País/Country', 'Cidade (City)', 'Estado',\n",
       "       'Cargo (Job Position)',\n",
       "       'Inclua seu certificado em curso da beleza (arquivo de até 1 MB, apenas um certificado é o suficiente)',\n",
       "       'Business Type', 'Nome da Empresa | Company Name',\n",
       "       'Indique sua Caravana (sua credencial estará com o organizador)',\n",
       "       'Celular (DDD)', 'Passport Number',\n",
       "       'Selecione o tipo de comércio que atua',\n",
       "       'Termos e Condições do Organizador', 'Declaração de Ciência',\n",
       "       'Qual gênero você se identifica? | Gender', 'Bairro', 'Veículo', 'CNPJ',\n",
       "       'Presente', 'Status', 'Categoria', 'Atividades Escolhidas',\n",
       "       'Data de Inscrição', 'Data de Pagamento da Inscrição',\n",
       "       'Primeiro acesso', 'Último acesso', 'Comentários',\n",
       "       'Celular do Participante', 'has_uppercase', 'email_valido'],\n",
       "      dtype='object')"
      ]
     },
     "execution_count": 9,
     "metadata": {},
     "output_type": "execute_result"
    }
   ],
   "source": [
    "df.columns"
   ]
  },
  {
   "cell_type": "code",
   "execution_count": 10,
   "id": "debdaa5a",
   "metadata": {},
   "outputs": [],
   "source": [
    "# Função para verificar se há duas \"@\" no campo\n",
    "def has_double_at_symbol(email):\n",
    "    return email.count('@') > 1\n",
    "\n",
    "# Aplicar a função e criar uma coluna para indicar a ocorrência de duas \"@\"\n",
    "df['has_double_at'] = df['Email'].apply(has_double_at_symbol)"
   ]
  },
  {
   "cell_type": "code",
   "execution_count": 11,
   "id": "80a36ca5",
   "metadata": {},
   "outputs": [
    {
     "data": {
      "text/plain": [
       "False    21212\n",
       "Name: has_double_at, dtype: int64"
      ]
     },
     "execution_count": 11,
     "metadata": {},
     "output_type": "execute_result"
    }
   ],
   "source": [
    "df['has_double_at'].value_counts()"
   ]
  },
  {
   "cell_type": "code",
   "execution_count": 12,
   "id": "dd33a373",
   "metadata": {},
   "outputs": [
    {
     "data": {
      "text/plain": [
       "1"
      ]
     },
     "execution_count": 12,
     "metadata": {},
     "output_type": "execute_result"
    }
   ],
   "source": [
    "df['Nome'].isnull().sum()"
   ]
  },
  {
   "cell_type": "code",
   "execution_count": 14,
   "id": "ebba5c0c",
   "metadata": {},
   "outputs": [],
   "source": [
    "def extrair_nome(nome):\n",
    "    match = re.match(r'^[a-zA-Z]+', nome)\n",
    "    if match:\n",
    "        return match.group()\n",
    "    else:\n",
    "        return nome"
   ]
  },
  {
   "cell_type": "code",
   "execution_count": 15,
   "id": "4a2bf66f",
   "metadata": {},
   "outputs": [],
   "source": [
    "# Índices das linhas que você deseja processar\n",
    "indices_a_processar = [4751, 18892]"
   ]
  },
  {
   "cell_type": "code",
   "execution_count": 16,
   "id": "eb7d8d3b",
   "metadata": {},
   "outputs": [],
   "source": [
    "for indice in indices_a_processar:\n",
    "    df.at[indice, 'Nome'] = extrair_nome(df.at[indice, 'Nome'])"
   ]
  },
  {
   "cell_type": "code",
   "execution_count": 17,
   "id": "3a3b3dea",
   "metadata": {},
   "outputs": [
    {
     "name": "stdout",
     "output_type": "stream",
     "text": [
      "Mantidos e corrigidos: 21212\n",
      "Descartados: 17\n"
     ]
    }
   ],
   "source": [
    "# Relatório breve das mudanças aplicadas\n",
    "\n",
    "print(f'Mantidos e corrigidos: {df.shape[0]}')\n",
    "print(f'Descartados: {df_invalidos.shape[0]}')"
   ]
  },
  {
   "cell_type": "markdown",
   "id": "d99a3397",
   "metadata": {},
   "source": [
    "---"
   ]
  },
  {
   "cell_type": "markdown",
   "id": "5fc3faa8",
   "metadata": {},
   "source": [
    "### Exportando"
   ]
  },
  {
   "cell_type": "code",
   "execution_count": 18,
   "id": "38e8d6be",
   "metadata": {},
   "outputs": [
    {
     "data": {
      "text/plain": [
       "(17, 32)"
      ]
     },
     "execution_count": 18,
     "metadata": {},
     "output_type": "execute_result"
    }
   ],
   "source": [
    "df_invalidos.shape"
   ]
  },
  {
   "cell_type": "code",
   "execution_count": 19,
   "id": "13dd5992",
   "metadata": {},
   "outputs": [
    {
     "data": {
      "text/plain": [
       "(21212, 33)"
      ]
     },
     "execution_count": 19,
     "metadata": {},
     "output_type": "execute_result"
    }
   ],
   "source": [
    "df.shape"
   ]
  },
  {
   "cell_type": "code",
   "execution_count": 20,
   "id": "e502b47d",
   "metadata": {},
   "outputs": [],
   "source": [
    "df.to_excel('mailing-inscritos-0709.xlsx')"
   ]
  },
  {
   "cell_type": "code",
   "execution_count": 21,
   "id": "b591aec8",
   "metadata": {},
   "outputs": [],
   "source": [
    "df_invalidos.to_excel('mailing-inscritos-0709_invalidos.xlsx')"
   ]
  }
 ],
 "metadata": {
  "kernelspec": {
   "display_name": "Python 3 (ipykernel)",
   "language": "python",
   "name": "python3"
  },
  "language_info": {
   "codemirror_mode": {
    "name": "ipython",
    "version": 3
   },
   "file_extension": ".py",
   "mimetype": "text/x-python",
   "name": "python",
   "nbconvert_exporter": "python",
   "pygments_lexer": "ipython3",
   "version": "3.9.13"
  }
 },
 "nbformat": 4,
 "nbformat_minor": 5
}
